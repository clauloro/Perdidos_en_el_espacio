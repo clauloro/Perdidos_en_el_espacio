{
 "cells": [
  {
   "attachments": {},
   "cell_type": "markdown",
   "metadata": {},
   "source": [
    "# Objetivo del dataset:\n",
    "Predecir en qué planeta se encuentra una tripulación en base a ciertos parámetros, como la aceleración de la gravedad medida y otros factores relevantes.\n",
    "\n",
    "Imagina que en el futuro una nave espacial tripulada parte de la Tierra hacia el planeta Neptuno.\n",
    "Durante el viaje, la tripulación permanece en estado de animación suspendida. En el trayecto la nave\n",
    "sufre una grave avería y el sistema automático de control la dirige al cuerpo celeste más cercano,\n",
    "donde realiza un aterrizaje de emergencia. Al posarse sobre la superficie, el sistema de soporte vital\n",
    "de la nave reanima a la tripulación.\n",
    "Una vez despiertos, los tripulantes descubren que el sistema de posicionamiento espacial no\n",
    "funciona y por el momento no tienen comunicación con la Tierra ni pueden mirar al exterior de la\n",
    "nave por razones de seguridad. Así que no saben dónde están, no tienen ningún dato del exterior,\n",
    "ni posibilidad de conseguirlo, ni saben cuánto tiempo ha pasado.\n",
    "En su trayecto entre la Tierra y Neptuno han podido estar cerca de la propia Tierra, Marte, Júpiter,\n",
    "Saturno, Urano, Neptuno y las lunas de cualquiera de ellos.\n",
    "\n",
    "Necesitan saber dónde están para reajustar el sistema de soporte vital y poder sobrevivir a medio\n",
    "plazo en espera de una posible misión de rescate. La tripulación nota su propio peso muy parecido\n",
    "al que sentía en la Tierra, aunque el dato puede ser engañoso por la pérdida de masa muscular\n",
    "durante el viaje. Por lo tanto, teniendo en cuenta los valores de la aceleración de la gravedad en los\n",
    "planetas del sistema solar:\n"
   ]
  },
  {
   "cell_type": "code",
   "execution_count": 3,
   "metadata": {},
   "outputs": [
    {
     "name": "stdout",
     "output_type": "stream",
     "text": [
      "   Planeta  g (m/s²)\n",
      "0   Tierra       9.8\n",
      "1    Marte       3.7\n",
      "2  Júpiter      24.8\n",
      "3  Saturno       9.0\n",
      "4    Urano       8.7\n",
      "5  Neptuno      11.0\n"
     ]
    }
   ],
   "source": [
    "import pandas as pd\n",
    "\n",
    "data = {'Planeta': ['Tierra', 'Marte', 'Júpiter', 'Saturno', 'Urano', 'Neptuno'],\n",
    "        'g (m/s²)': [9.8, 3.7, 24.8, 9.0, 8.7, 11.0]}\n",
    "\n",
    "df = pd.DataFrame(data)\n",
    "\n",
    "print(df)"
   ]
  },
  {
   "cell_type": "code",
   "execution_count": 13,
   "metadata": {},
   "outputs": [
    {
     "data": {
      "image/png": "[encoded data removed]",
      "text/plain": [
       "<Figure size 640x480 with 1 Axes>"
      ]
     },
     "metadata": {},
     "output_type": "display_data"
    }
   ],
   "source": [
    "import matplotlib.pyplot as plt\n",
    "colors = ['blue', 'red', 'gold', 'green', 'purple', 'cyan']\n",
    "\n",
    "fig, ax = plt.subplots()\n",
    "ax.bar(df['Planeta'], df['g (m/s²)'], color=colors)  \n",
    "\n",
    "ax.set_xlabel('Planeta')\n",
    "ax.set_ylabel('g (m/s²)')\n",
    "ax.set_title('Aceleración de la gravedad en los planetas del sistema solar')\n",
    "\n",
    "plt.show()"
   ]
  },
  {
   "attachments": {},
   "cell_type": "markdown",
   "metadata": {},
   "source": [
    "Parece obvio que no están en Marte, Júpiter ni en ninguna de las lunas de cualquier planeta. Pero\n",
    "podrían estar sobre Saturno, Urano, Neptuno o la propia Tierra, si el accidente se hubiera producido\n",
    "antes de estar más cerca de Marte que del punto de partida.\n",
    "\n",
    "A la tripulación se le ocurre determinar un valor experimental de la aceleración de la gravedad, g,\n",
    "para saber dónde se encuentran, comparando el resultado con los valores de la tabla anterior. Para\n",
    "calcularla, dejan caer un pequeño objeto con velocidad inicial nula desde una altura determinada y\n",
    "cronometran el tiempo que tarda en recorrerla. Para ello disponen de una cinta milimetrada con una\n",
    "resolución de 10 mm y un cronómetro con marcas cada 10 milésimas de segundo.\n"
   ]
  },
  {
   "cell_type": "code",
   "execution_count": 33,
   "metadata": {},
   "outputs": [
    {
     "name": "stdout",
     "output_type": "stream",
     "text": [
      "  Planeta     Aceleración (g) Tiempo de caída (t) Altura (h)\n",
      "0     Tierra              9.8                None       None\n",
      "1      Marte              3.7                None       None\n",
      "2    Júpiter             24.8                None       None\n",
      "3    Saturno              9.0                None       None\n",
      "4      Urano              8.7                None       None\n",
      "5    Neptuno             11.0                None       None\n"
     ]
    }
   ],
   "source": [
    "data = {'Planeta   ': ['Tierra', 'Marte', 'Júpiter', 'Saturno', 'Urano', 'Neptuno'],\n",
    "        'Aceleración (g)': [9.8, 3.7, 24.8 , 9.0, 8.7, 11.0],\n",
    "        'Tiempo de caída (t)': [None,None, None, None, None, None],\n",
    "        'Altura (h)': [None, None, None, None, None, None]}\n",
    "\n",
    "df = pd.DataFrame(data)\n",
    "print(df)"
   ]
  },
  {
   "attachments": {},
   "cell_type": "markdown",
   "metadata": {},
   "source": [
    "L = 1/2 x g x t^2\n",
    "\n",
    "A.- Con una longitud L= 1.00 m cronometran t = 0.46 s.\n",
    "\n",
    "    ¿Cuánto vale g y su error?\n",
    " \n",
    "    ¿En qué planeta están, o pueden estar?\n",
    "\n"
   ]
  },
  {
   "cell_type": "code",
   "execution_count": 30,
   "metadata": {},
   "outputs": [
    {
     "name": "stdout",
     "output_type": "stream",
     "text": [
      "   Aceleración de la gravedad medida (g)  Error en la medición de g\n",
      "0                               9.451796                   0.421677\n"
     ]
    }
   ],
   "source": [
    "import numpy as np\n",
    "\n",
    "L = 1.00  # m\n",
    "t = 0.46  # s\n",
    "delta_L = 0.01  # m\n",
    "delta_t = 0.01  # s\n",
    "\n",
    "\n",
    "g = 2 * L / t**2\n",
    "\n",
    "\n",
    "dg_dL = 2 / t**2\n",
    "dg_dt = -4 * L / t**3\n",
    "\n",
    "delta_g = np.sqrt((dg_dL * delta_L)**2 + (dg_dt * delta_t)**2)\n",
    "\n",
    "g, delta_g\n",
    "\n",
    "df = pd.DataFrame({'Aceleración de la gravedad medida (g)': [g],\n",
    "                   'Error en la medición de g': [delta_g]})\n",
    "\n",
    "print(df)\n"
   ]
  },
  {
   "attachments": {},
   "cell_type": "markdown",
   "metadata": {},
   "source": [
    "Dado que g = 9.45 m/s^2 + - 0.42 m/s², podemos calcular el rango de valores posibles para g:\n",
    "\n",
    "Rango inferior: 9.45 - 0.42 = 9.03 m/s^2\n",
    "Rango superior: 9.45 + 0.42 = 9.87 m/s^2\n",
    "\n",
    "Teniendo en cuenta los datos de la tabla, podemos saber que la tripulación podría estar en:\n",
    "\n",
    "Saturno (g = 9.0 m/s^2) ya que 9.0 está dentro del rango de 9.03 a 9.87 m/s^2.\n",
    "Tierra (g = 9.8 m/s^2) ya que 9.8 también está dentro del rango de 9.03 a 9.87 m/s^2."
   ]
  },
  {
   "attachments": {},
   "cell_type": "markdown",
   "metadata": {},
   "source": [
    "\n",
    "\n",
    "B.- Con una longitud L=2.00 m cronometran t = 0.66 s.\n",
    "\n",
    "    ¿Cuánto vale g y su error?\n",
    "\n",
    "    ¿En qué planeta están, o pueden estar?\n",
    " \n",
    "    ¿Con que probabilidad puedes afirmarlo?"
   ]
  },
  {
   "cell_type": "code",
   "execution_count": 34,
   "metadata": {},
   "outputs": [
    {
     "name": "stdout",
     "output_type": "stream",
     "text": [
      "   Aceleración de la gravedad medida (g)  Error en la medición de g\n",
      "0                               9.182736                   0.282027\n"
     ]
    }
   ],
   "source": [
    "L = 2.00  # m\n",
    "t = 0.66  # s\n",
    "\n",
    "\n",
    "g = 2 * L / t**2\n",
    "\n",
    "\n",
    "dg_dL = 2 / t**2\n",
    "dg_dt = -4 * L / t**3\n",
    "\n",
    "\n",
    "delta_g = np.sqrt((dg_dL * delta_L)**2 + (dg_dt * delta_t)**2)\n",
    "\n",
    "g, delta_g\n",
    "\n",
    "df = pd.DataFrame({'Aceleración de la gravedad medida (g)': [g],\n",
    "                   'Error en la medición de g': [delta_g]})\n",
    "\n",
    "print(df)"
   ]
  },
  {
   "attachments": {},
   "cell_type": "markdown",
   "metadata": {},
   "source": [
    "Ahora, podemos calcular el rango de valores posibles para g:\n",
    "\n",
    "Rango inferior: 9.18 - 0.28 = 8.90 m/s^2\n",
    "Rango superior: 9.18 + 0.28 = 9.46 m/s^2\n",
    "\n",
    "Podemos concluir que la tripulación podría estar en:\n",
    "\n",
    "Saturno (g = 9.0 m/s^2) ya que 9.0 está dentro del rango de 8.90 a 9.46 m/s^2.\n",
    "Dado que solo Saturno se encuentra dentro del rango calculado, podemos afirmar con cierta confianza que la tripulación está en Saturno en este caso."
   ]
  },
  {
   "attachments": {},
   "cell_type": "markdown",
   "metadata": {},
   "source": [
    "Dado que los datos obtenidos en el apartado a y b nos permiten descartar varios planetas, podemos calcular una probabilidad aproximada basada en la información proporcionada. \n",
    "\n",
    "Apartado a:\n",
    "\n",
    "g ≈ 9.45 m/s^2 y Δg ≈ 0.42 m/s^2\n",
    "Rango: 9.03 m/s^2 a 9.87 m/s^2\n",
    "\n",
    "Apartado b:\n",
    "\n",
    "g ≈ 9.18 m/s^2 y Δg ≈ 0.28 m/s^2\n",
    "Rango: 8.90 m/s^2 a 9.46 m/s^2\n",
    "\n",
    "Podemos ver que ambos rangos incluyen solo a Saturno (g = 9.0 m/s^2) como el planeta en el que podría estar la tripulación. Suponiendo que la tripulación podría haber estado en cualquiera de los cuatro planetas posibles (Tierra, Saturno, Urano y Neptuno) antes de realizar las mediciones, podemos calcular la probabilidad aproximada de estar en Saturno como 1/1, ya que es el único planeta que se encuentra en ambos rangos. Esto nos daría una probabilidad del 100%."
   ]
  }
 ],
 "metadata": {
  "kernelspec": {
   "display_name": "Python 3",
   "language": "python",
   "name": "python3"
  },
  "language_info": {
   "codemirror_mode": {
    "name": "ipython",
    "version": 3
   },
   "file_extension": ".py",
   "mimetype": "text/x-python",
   "name": "python",
   "nbconvert_exporter": "python",
   "pygments_lexer": "ipython3",
   "version": "3.10.11"
  },
  "orig_nbformat": 4
 },
 "nbformat": 4,
 "nbformat_minor": 2
}
